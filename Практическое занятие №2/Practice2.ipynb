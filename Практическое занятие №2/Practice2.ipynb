{
 "cells": [
  {
   "attachments": {},
   "cell_type": "markdown",
   "metadata": {},
   "source": [
    "# Практическое занятие №2"
   ]
  },
  {
   "attachments": {},
   "cell_type": "markdown",
   "metadata": {},
   "source": [
    "## Фильтрация изображений"
   ]
  },
  {
   "attachments": {},
   "cell_type": "markdown",
   "metadata": {},
   "source": [
    "Подключаем необходимые либы"
   ]
  },
  {
   "cell_type": "code",
   "execution_count": null,
   "metadata": {},
   "outputs": [],
   "source": [
    "import cv2\n",
    "import numpy as np\n",
    "import matplotlib.pyplot as plt"
   ]
  },
  {
   "attachments": {},
   "cell_type": "markdown",
   "metadata": {},
   "source": [
    "Прежде, чем фильтровать изображение посмотрим еще один тип шума: высокочастотный"
   ]
  },
  {
   "cell_type": "code",
   "execution_count": null,
   "metadata": {},
   "outputs": [],
   "source": [
    "fileName = 'Mandrill.png'\n",
    "img = cv2.imread(fileName)\n",
    "if len(img.shape) > 2:\n",
    "    img = cv2.cvtColor(img, cv2.COLOR_RGB2GRAY)\n",
    "\n",
    "plt.imshow(img, cmap='gray')"
   ]
  },
  {
   "attachments": {},
   "cell_type": "markdown",
   "metadata": {},
   "source": [
    "Генерируем шум"
   ]
  },
  {
   "cell_type": "code",
   "execution_count": null,
   "metadata": {},
   "outputs": [],
   "source": [
    "M, N = img.shape"
   ]
  },
  {
   "cell_type": "code",
   "execution_count": null,
   "metadata": {},
   "outputs": [],
   "source": [
    "# Генерируем случайную частоту\n",
    "f = np.random.randint(1, 5000)\n",
    "# Выбираем случайную частоту дискретизации (> 2*f)\n",
    "fs = np.random.randint(2, 10) * f\n",
    "# Считаем период дискретизации\n",
    "ts = 1/fs\n",
    "t = np.arange(0, M*N, 1)\n",
    "# Дискретизируем сигнал\n",
    "T = np.array(t) * ts"
   ]
  },
  {
   "cell_type": "code",
   "execution_count": null,
   "metadata": {},
   "outputs": [],
   "source": [
    "# Получаем зашумленный сигнал\n",
    "dirty_cos = np.cos(2 * np.pi * f * T) * 255\n",
    "# Перегоняем его в размер изображения\n",
    "dirty_cos = np.reshape(dirty_cos, (M, N)).astype('uint8')\n",
    "\n",
    "plt.imshow(dirty_cos, cmap='gray')"
   ]
  },
  {
   "attachments": {},
   "cell_type": "markdown",
   "metadata": {},
   "source": [
    "Добавим полученный шум к изображению"
   ]
  },
  {
   "cell_type": "code",
   "execution_count": null,
   "metadata": {},
   "outputs": [],
   "source": [
    "plt.hist(dirty_cos.ravel(), bins=256)\n",
    "plt.show()"
   ]
  },
  {
   "cell_type": "code",
   "execution_count": null,
   "metadata": {},
   "outputs": [],
   "source": [
    "hf_img = cv2.add(img, dirty_cos)\n",
    "plt.imshow(hf_img, cmap='gray')"
   ]
  },
  {
   "attachments": {},
   "cell_type": "markdown",
   "metadata": {},
   "source": [
    "Теперь переходим к фильтрации изображений"
   ]
  },
  {
   "attachments": {},
   "cell_type": "markdown",
   "metadata": {},
   "source": [
    "Сначала попробуем отфильтровать импульсный шум\n",
    "\n",
    "Для этого будем использовать скользящую медиану"
   ]
  },
  {
   "cell_type": "code",
   "execution_count": null,
   "metadata": {},
   "outputs": [],
   "source": []
  },
  {
   "attachments": {},
   "cell_type": "markdown",
   "metadata": {},
   "source": [
    "Попробуем отфильтровать наш ВЧ-шум при помощи скользящего среднего"
   ]
  },
  {
   "cell_type": "code",
   "execution_count": null,
   "metadata": {},
   "outputs": [],
   "source": []
  },
  {
   "attachments": {},
   "cell_type": "markdown",
   "metadata": {},
   "source": [
    "Поймем, что выходит не очень. И будем использовать другой способ"
   ]
  },
  {
   "attachments": {},
   "cell_type": "markdown",
   "metadata": {},
   "source": [
    "Для начала посмотрим двух-мерный Фурье-спектр"
   ]
  },
  {
   "cell_type": "code",
   "execution_count": null,
   "metadata": {},
   "outputs": [],
   "source": [
    "M, N = hf_img.shape\n",
    "\n",
    "fft2 = np.fft.fft2(hf_img)\n",
    "ft = np.fft.fftshift(fft2)\n",
    "\n",
    "plt.imshow(np.log(np.abs(ft)), cmap='gray')"
   ]
  },
  {
   "attachments": {},
   "cell_type": "markdown",
   "metadata": {},
   "source": [
    "Видим те части, которые нам нужно отфильтровать"
   ]
  },
  {
   "cell_type": "code",
   "execution_count": null,
   "metadata": {},
   "outputs": [],
   "source": [
    "N2 = int(N/2)\n",
    "M2 = int(M/2)\n",
    "\n",
    "ft[:M2 - 25, N2 - 2: N2 + 2] = 1\n",
    "ft[M2 + 25:, N2 - 2: N2 + 2] = 1\n",
    "\n",
    "plt.imshow(np.log(np.abs(ft)), cmap='gray')"
   ]
  },
  {
   "attachments": {},
   "cell_type": "markdown",
   "metadata": {},
   "source": [
    "После того, как мы отфильтровали нужные области, возвращаем изображению нормальный вид"
   ]
  },
  {
   "cell_type": "code",
   "execution_count": null,
   "metadata": {},
   "outputs": [],
   "source": [
    "restored_img = abs(np.fft.ifft2(ft))\n",
    "\n",
    "plt.imshow(restored_img, cmap='gray')"
   ]
  },
  {
   "attachments": {},
   "cell_type": "markdown",
   "metadata": {},
   "source": [
    "## Другие операции с изображениями"
   ]
  },
  {
   "attachments": {},
   "cell_type": "markdown",
   "metadata": {},
   "source": [
    "Необходима библиотека scikit-image"
   ]
  },
  {
   "cell_type": "code",
   "execution_count": null,
   "metadata": {},
   "outputs": [],
   "source": [
    "from skimage.exposure import rescale_intensity"
   ]
  },
  {
   "cell_type": "code",
   "execution_count": null,
   "metadata": {},
   "outputs": [],
   "source": [
    "def convolve(image, kernel):\n",
    "\t# считываем размеры изображения и ядра свертки\n",
    "\t(iH, iW) = image.shape[:2]\n",
    "\t(kH, kW) = kernel.shape[:2]\n",
    "\t# делаем паддинг для изображения\n",
    "\tpad = (kW - 1) // 2\n",
    "\timage = cv2.copyMakeBorder(image, pad, pad, pad, pad,\n",
    "\t\tcv2.BORDER_REPLICATE)\n",
    "    # создаем пустое изображение, в которое будем записывать результат\n",
    "\toutput = np.zeros((iH, iW), dtype=\"float32\")\n",
    "    # итерируемся по x и y\n",
    "\tfor y in np.arange(pad, iH + pad):\n",
    "\t\tfor x in np.arange(pad, iW + pad):\n",
    "\t\t\t# выхватываем окно\n",
    "\t\t\troi = image[y - pad:y + pad + 1, x - pad:x + pad + 1]\n",
    "\t\t\t# и сворачиваем его с ядром\n",
    "\t\t\tk = (roi * kernel).sum()\n",
    "\t\t\toutput[y - pad, x - pad] = k\n",
    "    # rescale the output image to be in the range [0, 255]\n",
    "\toutput = rescale_intensity(output, in_range=(0, 255))\n",
    "\toutput = (output * 255).astype(\"uint8\")\n",
    "\t# return the output image\n",
    "\treturn output"
   ]
  },
  {
   "cell_type": "code",
   "execution_count": null,
   "metadata": {},
   "outputs": [],
   "source": [
    "# шарпенинг (повышение резкости)\n",
    "sharpen = np.array((\n",
    "\t[0, -1, 0],\n",
    "\t[-1, 5, -1],\n",
    "\t[0, -1, 0]), dtype=\"int\")\n",
    "\n",
    "# выделение границ\n",
    "laplacian = np.array((\n",
    "\t[0, 1, 0],\n",
    "\t[1, -4, 1],\n",
    "\t[0, 1, 0]), dtype=\"int\")\n",
    "\n",
    "sobelX = np.array((\n",
    "\t[-1, 0, 1],\n",
    "\t[-2, 0, 2],\n",
    "\t[-1, 0, 1]), dtype=\"int\")\n",
    "\n",
    "sobelY = np.array((\n",
    "\t[-1, -2, -1],\n",
    "\t[0, 0, 0],\n",
    "\t[1, 2, 1]), dtype=\"int\")\n",
    "\n",
    "prewittX = np.array((\n",
    "\t[-1, 0, 1],\n",
    "\t[-1, 0, 1],\n",
    "\t[-1, 0, 1]), dtype=\"int\")\n",
    "\n",
    "prewittY = np.array((\n",
    "\t[-1, -1, -1],\n",
    "\t[0, 0, 0],\n",
    "\t[1, 1, 1]), dtype=\"int\")"
   ]
  },
  {
   "cell_type": "code",
   "execution_count": null,
   "metadata": {},
   "outputs": [],
   "source": [
    "result = convolve(img, laplacian)\n",
    "\n",
    "plt.imshow(result, cmap='gray')"
   ]
  },
  {
   "attachments": {},
   "cell_type": "markdown",
   "metadata": {},
   "source": [
    "Эквализация гистограммы"
   ]
  },
  {
   "attachments": {},
   "cell_type": "markdown",
   "metadata": {},
   "source": [
    "$ 255 * \\left( \\frac{I - I_{min}}{I_{max}-I_{min}} \\right) $"
   ]
  },
  {
   "cell_type": "code",
   "execution_count": null,
   "metadata": {},
   "outputs": [],
   "source": [
    "plt.hist(img.ravel(), 256, [0, 255])\n",
    "plt.show()\n",
    "\n",
    "Imin = 10\n",
    "Imax = 250\n",
    "\n",
    "img_eq = 255 * ((img - Imin)/(Imax - Imin))\n",
    "\n",
    "plt.hist(img_eq.ravel(), 256, [0, 255])\n",
    "plt.show()\n",
    "\n",
    "plt.imshow(img_eq, cmap='gray')"
   ]
  },
  {
   "attachments": {},
   "cell_type": "markdown",
   "metadata": {},
   "source": [
    "Гамма-коррекция"
   ]
  },
  {
   "attachments": {},
   "cell_type": "markdown",
   "metadata": {},
   "source": [
    "$ \\left( \\Big(\\frac{I}{255}\\Big)^{\\frac{1}{\\gamma}} \\right)*255 $"
   ]
  },
  {
   "cell_type": "code",
   "execution_count": null,
   "metadata": {},
   "outputs": [],
   "source": [
    "gamma = 0.7\n",
    "invGamma = 1 / gamma\n",
    "\n",
    "table = [((i / 255) ** invGamma) * 255 for i in range(256)]\n",
    "table = np.array(table, np.uint8)\n",
    "\n",
    "img_c = cv2.LUT(img, table)\n",
    "\n",
    "plt.imshow(img_c, cmap='gray')"
   ]
  },
  {
   "attachments": {},
   "cell_type": "markdown",
   "metadata": {},
   "source": [
    "Бинаризация"
   ]
  },
  {
   "cell_type": "code",
   "execution_count": null,
   "metadata": {},
   "outputs": [],
   "source": [
    "thr = 10\n",
    "img_bin = (img > thr) * img\n",
    "\n",
    "plt.imshow(img_bin, cmap='gray')"
   ]
  }
 ],
 "metadata": {
  "kernelspec": {
   "display_name": "Python 3",
   "language": "python",
   "name": "python3"
  },
  "language_info": {
   "codemirror_mode": {
    "name": "ipython",
    "version": 3
   },
   "file_extension": ".py",
   "mimetype": "text/x-python",
   "name": "python",
   "nbconvert_exporter": "python",
   "pygments_lexer": "ipython3",
   "version": "3.10.6"
  },
  "orig_nbformat": 4
 },
 "nbformat": 4,
 "nbformat_minor": 2
}
