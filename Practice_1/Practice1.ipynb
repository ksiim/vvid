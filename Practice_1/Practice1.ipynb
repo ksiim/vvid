{
 "cells": [
  {
   "attachments": {},
   "cell_type": "markdown",
   "metadata": {},
   "source": [
    "# Практическое занятие №1"
   ]
  },
  {
   "attachments": {},
   "cell_type": "markdown",
   "metadata": {},
   "source": [
    "## Генерация случайных чисел и последовательностей"
   ]
  },
  {
   "attachments": {},
   "cell_type": "markdown",
   "metadata": {},
   "source": [
    "Подключаем необходимые либы"
   ]
  },
  {
   "cell_type": "code",
   "execution_count": null,
   "metadata": {},
   "outputs": [],
   "source": [
    "import numpy as np\n",
    "import matplotlib.pyplot as plt"
   ]
  },
  {
   "attachments": {},
   "cell_type": "markdown",
   "metadata": {},
   "source": [
    "Генерируем нормальное распределение"
   ]
  },
  {
   "cell_type": "code",
   "execution_count": null,
   "metadata": {},
   "outputs": [],
   "source": [
    "mu, sigma = 0, 1 # mean and standard deviation\n",
    "size = 10000\n",
    "normal_distribution = np.random.normal(mu, sigma, size)"
   ]
  },
  {
   "attachments": {},
   "cell_type": "markdown",
   "metadata": {},
   "source": [
    "Проверим, что оно получилось с нужными нам параметрами"
   ]
  },
  {
   "cell_type": "code",
   "execution_count": null,
   "metadata": {},
   "outputs": [],
   "source": [
    "# check mu\n",
    "print(abs(mu - np.mean(normal_distribution)))\n",
    "\n",
    "# check sigma\n",
    "print(abs(sigma - np.std(normal_distribution)))"
   ]
  },
  {
   "attachments": {},
   "cell_type": "markdown",
   "metadata": {},
   "source": [
    "Построим гистограмму"
   ]
  },
  {
   "cell_type": "code",
   "execution_count": null,
   "metadata": {},
   "outputs": [],
   "source": [
    "plt.hist(normal_distribution, 30, density=True)\n",
    "plt.title('Normal distribution')\n",
    "plt.show()"
   ]
  },
  {
   "attachments": {},
   "cell_type": "markdown",
   "metadata": {},
   "source": [
    "Генерируем равномерное распределение"
   ]
  },
  {
   "cell_type": "code",
   "execution_count": null,
   "metadata": {},
   "outputs": [],
   "source": [
    "uniform_distribution = np.random.uniform(size=size)"
   ]
  },
  {
   "attachments": {},
   "cell_type": "markdown",
   "metadata": {},
   "source": [
    "Проверяем параметры, чему они будут равны?\n",
    "\n",
    "https://www.statology.org/uniform-distribution/"
   ]
  },
  {
   "cell_type": "code",
   "execution_count": null,
   "metadata": {},
   "outputs": [],
   "source": [
    "print(np.mean(uniform_distribution))\n",
    "\n",
    "print(np.std(uniform_distribution))"
   ]
  },
  {
   "attachments": {},
   "cell_type": "markdown",
   "metadata": {},
   "source": [
    "Строим гистограмму, чтобы проверить"
   ]
  },
  {
   "cell_type": "code",
   "execution_count": null,
   "metadata": {},
   "outputs": [],
   "source": [
    "plt.hist(uniform_distribution, 30, density=True)\n",
    "plt.title('Uniform distribution')\n",
    "plt.show()"
   ]
  },
  {
   "attachments": {},
   "cell_type": "markdown",
   "metadata": {},
   "source": [
    "Теперь проверим наши распределения при помощи теста Колмогорова-Смирнова"
   ]
  },
  {
   "cell_type": "code",
   "execution_count": null,
   "metadata": {},
   "outputs": [],
   "source": [
    "from scipy import stats"
   ]
  },
  {
   "cell_type": "code",
   "execution_count": null,
   "metadata": {},
   "outputs": [],
   "source": [
    "result = stats.ks_2samp(normal_distribution, uniform_distribution)\n",
    "pthr = 0.05\n",
    "\n",
    "print(result.pvalue > pthr)"
   ]
  },
  {
   "attachments": {},
   "cell_type": "markdown",
   "metadata": {},
   "source": [
    "После чего проверим их с \"эталонными\""
   ]
  },
  {
   "cell_type": "code",
   "execution_count": null,
   "metadata": {},
   "outputs": [],
   "source": [
    "ks_uniform = stats.uniform.rvs(size=size)\n",
    "\n",
    "result = stats.ks_2samp(uniform_distribution, ks_uniform)\n",
    "\n",
    "print(result.pvalue > pthr)"
   ]
  },
  {
   "attachments": {},
   "cell_type": "markdown",
   "metadata": {},
   "source": [
    "Проверить тоже самое для нормального, будет ли работать и как исправить?"
   ]
  },
  {
   "cell_type": "code",
   "execution_count": null,
   "metadata": {},
   "outputs": [],
   "source": []
  },
  {
   "attachments": {},
   "cell_type": "markdown",
   "metadata": {},
   "source": [
    "[Линейный конгруэнтный генератор](https://www.geeksforgeeks.org/linear-congruence-method-for-generating-pseudo-random-numbers/)\n",
    "\n",
    "Какое распределение получаем, посмотреть, построить"
   ]
  },
  {
   "cell_type": "code",
   "execution_count": null,
   "metadata": {},
   "outputs": [],
   "source": [
    "# Initialize\n",
    "seed_num = 42\n",
    "multiplier = 5**5\n",
    "increment = 0\n",
    "modulus = (2**26)\n",
    "unit = 10000\n",
    "\n",
    "lcg = []\n",
    "\n",
    "num_base = seed_num\n",
    "for i in range(unit):\n",
    "    rd = (multiplier * num_base + increment) % modulus\n",
    "    lcg.append(rd)\n",
    "    num_base = rd\n",
    "\n",
    "lcg = lcg / np.max(lcg)\n"
   ]
  },
  {
   "attachments": {},
   "cell_type": "markdown",
   "metadata": {},
   "source": [
    "Теперь попробуем текущие распределение превратить в нормальное\n",
    "\n",
    "Для этого будем использовать преобразование Бокса-Мюллера"
   ]
  },
  {
   "cell_type": "code",
   "execution_count": null,
   "metadata": {},
   "outputs": [],
   "source": [
    "R = np.sqrt(-2 * np.log(lcg))\n",
    "Theta = 2 * np.pi * lcg\n",
    "Nm = R * np.cos(Theta)"
   ]
  },
  {
   "attachments": {},
   "cell_type": "markdown",
   "metadata": {},
   "source": [
    "И точно также, в экспоненциальное"
   ]
  },
  {
   "cell_type": "code",
   "execution_count": null,
   "metadata": {},
   "outputs": [],
   "source": [
    "lmbd = 0.4\n",
    "Em = (-1/lmbd)*np.log(lcg)"
   ]
  },
  {
   "attachments": {},
   "cell_type": "markdown",
   "metadata": {},
   "source": [
    "## Работа с изображениями"
   ]
  },
  {
   "attachments": {},
   "cell_type": "markdown",
   "metadata": {},
   "source": [
    "Считаем изображение и попробуем его отобразить"
   ]
  },
  {
   "cell_type": "code",
   "execution_count": null,
   "metadata": {},
   "outputs": [],
   "source": [
    "import cv2"
   ]
  },
  {
   "cell_type": "code",
   "execution_count": null,
   "metadata": {},
   "outputs": [],
   "source": [
    "img = cv2.imread('Mandrill.png')\n",
    "\n",
    "img = cv2.cvtColor(img, cv2.COLOR_BGR2RGB)\n",
    "\n",
    "# cv2.imshow('img', img)\n",
    "plt.imshow(img)"
   ]
  },
  {
   "attachments": {},
   "cell_type": "markdown",
   "metadata": {},
   "source": [
    "Дальше работать будем с серым (одноканальным) изображением\n",
    "\n",
    "Точнее, будем проверять 3-канальное ли изображение и конвертировать его"
   ]
  },
  {
   "cell_type": "code",
   "execution_count": null,
   "metadata": {},
   "outputs": [],
   "source": [
    "if len(img.shape) > 2:\n",
    "    img = cv2.cvtColor(img, cv2.COLOR_RGB2GRAY)\n",
    "\n",
    "plt.imshow(img, cmap='gray')\n",
    "# cv2.imwrite('img.png', img)"
   ]
  },
  {
   "attachments": {},
   "cell_type": "markdown",
   "metadata": {},
   "source": [
    "Построим также гистограмму распределения яркости на изображении"
   ]
  },
  {
   "cell_type": "code",
   "execution_count": null,
   "metadata": {},
   "outputs": [],
   "source": [
    "plt.hist(img.ravel(), 256, [0, 256])\n",
    "plt.show()"
   ]
  },
  {
   "attachments": {},
   "cell_type": "markdown",
   "metadata": {},
   "source": [
    "Теперь добавим шума\n",
    "\n",
    "Сначала Гауссов (нормальный)"
   ]
  },
  {
   "cell_type": "code",
   "execution_count": null,
   "metadata": {},
   "outputs": [],
   "source": [
    "gaussian_noise = np.zeros(img.shape,dtype=np.uint8)\n",
    "cv2.randn(gaussian_noise,128,20)\n",
    "gaussian_noise = (gaussian_noise).astype(np.uint8)\n",
    "gaussian_noise_img = cv2.add(img, gaussian_noise)"
   ]
  },
  {
   "attachments": {},
   "cell_type": "markdown",
   "metadata": {},
   "source": [
    "Посмотрим что, из себя представляет шум, и как выглядит зашумленное изображение и его гистограмма"
   ]
  },
  {
   "cell_type": "code",
   "execution_count": null,
   "metadata": {},
   "outputs": [],
   "source": []
  },
  {
   "attachments": {},
   "cell_type": "markdown",
   "metadata": {},
   "source": [
    "Посчитаем [отношение Сигнал-Шум](https://ru.wikipedia.org/wiki/%D0%9F%D0%B8%D0%BA%D0%BE%D0%B2%D0%BE%D0%B5_%D0%BE%D1%82%D0%BD%D0%BE%D1%88%D0%B5%D0%BD%D0%B8%D0%B5_%D1%81%D0%B8%D0%B3%D0%BD%D0%B0%D0%BB%D0%B0_%D0%BA_%D1%88%D1%83%D0%BC%D1%83)"
   ]
  },
  {
   "cell_type": "code",
   "execution_count": null,
   "metadata": {},
   "outputs": [],
   "source": [
    "mse = np.mean((img - gaussian_noise_img) ** 2)\n",
    "max_pixel = 255.0\n",
    "psnr = 20 * np.log10(max_pixel/ np.sqrt(mse))"
   ]
  },
  {
   "attachments": {},
   "cell_type": "markdown",
   "metadata": {},
   "source": [
    "Теперь попробуем добавить этот же Гауссов шум другим способом, как мы делали раньше"
   ]
  },
  {
   "cell_type": "code",
   "execution_count": null,
   "metadata": {},
   "outputs": [],
   "source": [
    "normal_distribution = np.random.normal(0, 1, (img.shape))\n",
    "\n",
    "# plt.hist(normal_distribution.ravel(), 256, density=True)\n",
    "# plt.title('Normal distribution')\n",
    "# plt.show()\n",
    "\n",
    "normal_distribution_img = img + normal_distribution.astype(np.uint8)\n",
    "\n",
    "# plt.imshow(normal_distribution_img, cmap='gray')\n"
   ]
  },
  {
   "attachments": {},
   "cell_type": "markdown",
   "metadata": {},
   "source": [
    "Добавим шум не только аддитивно, но мультипликативно"
   ]
  },
  {
   "cell_type": "code",
   "execution_count": null,
   "metadata": {},
   "outputs": [],
   "source": []
  },
  {
   "attachments": {},
   "cell_type": "markdown",
   "metadata": {},
   "source": [
    "Затем, проделаем тоже самое с другими шумами (равномерным и экспоненциальным)"
   ]
  },
  {
   "cell_type": "code",
   "execution_count": null,
   "metadata": {},
   "outputs": [],
   "source": []
  },
  {
   "attachments": {},
   "cell_type": "markdown",
   "metadata": {},
   "source": [
    "И пытаемся добавить импульсный шум (он же salt-and-pepper)"
   ]
  },
  {
   "cell_type": "code",
   "execution_count": null,
   "metadata": {},
   "outputs": [],
   "source": [
    "noise_density = 10 # процент зашумления\n",
    "\n",
    "sp_img = img.copy()\n",
    "\n",
    "for _ in range(round((noise_density * img.shape[0] * img.shape[1])/ 100)):\n",
    "    x = np.random.randint(img.shape[1])\n",
    "    y = np.random.randint(img.shape[0])\n",
    "\n",
    "    sp_img[x, y] = (np.random.uniform(0, 1) > 0.5) * 255\n",
    "\n",
    "plt.imshow(sp_img, cmap='gray')"
   ]
  }
 ],
 "metadata": {
  "kernelspec": {
   "display_name": "Python 3",
   "language": "python",
   "name": "python3"
  },
  "language_info": {
   "codemirror_mode": {
    "name": "ipython",
    "version": 3
   },
   "file_extension": ".py",
   "mimetype": "text/x-python",
   "name": "python",
   "nbconvert_exporter": "python",
   "pygments_lexer": "ipython3",
   "version": "3.10.6"
  },
  "orig_nbformat": 4,
  "vscode": {
   "interpreter": {
    "hash": "da80d8c5460b68960e1197520a35e9fc73e6fa86f23ee9cbf86db506377816ba"
   }
  }
 },
 "nbformat": 4,
 "nbformat_minor": 2
}
